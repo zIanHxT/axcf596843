{
  "nbformat": 4,
  "nbformat_minor": 0,
  "metadata": {
    "colab": {
      "name": "Untitled2.ipynb",
      "provenance": [],
      "collapsed_sections": [],
      "include_colab_link": true
    },
    "kernelspec": {
      "name": "python3",
      "display_name": "Python 3"
    },
    "accelerator": "GPU"
  },
  "cells": [
    {
      "cell_type": "markdown",
      "metadata": {
        "id": "view-in-github",
        "colab_type": "text"
      },
      "source": [
        "<a href=\"https://colab.research.google.com/github/zIanHxT/axcf596843/blob/main/DFL-Colab-Shraeyas.ipynb\" target=\"_parent\"><img src=\"https://colab.research.google.com/assets/colab-badge.svg\" alt=\"Open In Colab\"/></a>"
      ]
    },
    {
      "cell_type": "markdown",
      "metadata": {
        "id": "EJJ4UKEMArKV"
      },
      "source": [
        "---\n",
        "###**Test Your GPU**\n",
        "---\n",
        "Run following command to check if your **GPU** is working."
      ]
    },
    {
      "cell_type": "code",
      "metadata": {
        "id": "-HfWi0_7A1I6",
        "colab": {
          "base_uri": "https://localhost:8080/"
        },
        "outputId": "e94f61a8-d50d-4b1f-c697-2f99fb654e90"
      },
      "source": [
        "!nvidia-smi"
      ],
      "execution_count": 2,
      "outputs": [
        {
          "output_type": "stream",
          "name": "stdout",
          "text": [
            "Wed Dec 29 13:59:09 2021       \n",
            "+-----------------------------------------------------------------------------+\n",
            "| NVIDIA-SMI 495.44       Driver Version: 460.32.03    CUDA Version: 11.2     |\n",
            "|-------------------------------+----------------------+----------------------+\n",
            "| GPU  Name        Persistence-M| Bus-Id        Disp.A | Volatile Uncorr. ECC |\n",
            "| Fan  Temp  Perf  Pwr:Usage/Cap|         Memory-Usage | GPU-Util  Compute M. |\n",
            "|                               |                      |               MIG M. |\n",
            "|===============================+======================+======================|\n",
            "|   0  Tesla K80           Off  | 00000000:00:04.0 Off |                    0 |\n",
            "| N/A   33C    P8    29W / 149W |      0MiB / 11441MiB |      0%      Default |\n",
            "|                               |                      |                  N/A |\n",
            "+-------------------------------+----------------------+----------------------+\n",
            "                                                                               \n",
            "+-----------------------------------------------------------------------------+\n",
            "| Processes:                                                                  |\n",
            "|  GPU   GI   CI        PID   Type   Process name                  GPU Memory |\n",
            "|        ID   ID                                                   Usage      |\n",
            "|=============================================================================|\n",
            "|  No running processes found                                                 |\n",
            "+-----------------------------------------------------------------------------+\n"
          ]
        }
      ]
    },
    {
      "cell_type": "markdown",
      "metadata": {
        "id": "CFjBER92GL0K"
      },
      "source": [
        "##**In case, you get an error for the above code** :\n",
        "If you get this error **\"NVIDIA-SMI has failed because it couldn't communicate with the NVIDIA driver. Make sure that the latest NVIDIA driver is installed and running.\"**\n",
        "\n",
        "Go to **\"Runtime\"** from the menu bar and then click on **\"Change Runtime Type\"**, Select **GPU** as the Hardware Accelerator and click save.\n",
        "Then try and **run the above command again.**\n",
        "\n",
        "If it still doesn't work, that means **Google Colab has limited your resources** for now. The resources generally get refreshed after **12 hours**\n",
        "\n",
        "####**Not to mention, you can always try with a different google account.**"
      ]
    },
    {
      "cell_type": "markdown",
      "metadata": {
        "id": "19KAIHKgYSS6"
      },
      "source": [
        "---\n",
        "###**Execute following code to prevent Random Disconnects**\n",
        "---"
      ]
    },
    {
      "cell_type": "code",
      "metadata": {
        "id": "VYbn0HnxnDHi"
      },
      "source": [
        "import IPython\n",
        "display(IPython.display.Javascript('''\n",
        "  function reconnect()\n",
        "  {\n",
        "    console.log(\"Script Working\");\n",
        "    btn = document.querySelector(\"colab-connect-button\");\n",
        "    if (btn != null)\n",
        "    {\n",
        "      console.log(\"Working Clicking Reconnect Button 1\");\n",
        "      btn.click();\n",
        "    }\n",
        "    btn = document.getElementById('ok');\n",
        "    if (btn != null)\n",
        "    {\n",
        "      console.log(\"Working Clicking Reconnect Button 1\");\n",
        "      btn.click();\n",
        "    }\n",
        "  }\n",
        "  setInterval(reconnect, 5000);\n",
        "'''))\n",
        "\n",
        "print (\"Finished\")"
      ],
      "execution_count": null,
      "outputs": []
    },
    {
      "cell_type": "markdown",
      "metadata": {
        "id": "6oTKM2oAIWEQ"
      },
      "source": [
        "------------------------------------------------------------------\n",
        "#**Prepare Your Data**\n",
        "------------------------------------------------------------------"
      ]
    },
    {
      "cell_type": "markdown",
      "metadata": {
        "id": "RZh5_qwKBR66"
      },
      "source": [
        "Mount Your **Google Drive** by executing the following code."
      ]
    },
    {
      "cell_type": "code",
      "metadata": {
        "id": "q8BkJROCA33M"
      },
      "source": [
        "from google.colab import drive\n",
        "drive.mount('/content/drive', force_remount=True)\n"
      ],
      "execution_count": null,
      "outputs": []
    },
    {
      "cell_type": "code",
      "metadata": {
        "id": "4g5tW612CE1U"
      },
      "source": [
        "%cd \"drive\"\n",
        "%cd \"My Drive\""
      ],
      "execution_count": null,
      "outputs": []
    },
    {
      "cell_type": "markdown",
      "metadata": {
        "id": "qIWVkDqpc2NH"
      },
      "source": [
        "Clone the Source Code from **Github** and Install **Requirements** using **PIP**"
      ]
    },
    {
      "cell_type": "code",
      "metadata": {
        "id": "WW7uMoMdDN02"
      },
      "source": [
        "!git clone https://github.com/Shraeyas/DFL-Colab-Shraeyas \n",
        "%cd DFL-Colab-Shraeyas\n",
        "!pip install -r requirements-colab.txt\n",
        "!echo \"Done.\""
      ],
      "execution_count": null,
      "outputs": []
    },
    {
      "cell_type": "markdown",
      "metadata": {
        "id": "HXVEv3M0r8Kn"
      },
      "source": [
        "------------------------------------------------------------------\n",
        "##If you clicked on **RESTART RUNTIME** in the above step, then execute the following lines.\n",
        "------------------------------------------------------------------"
      ]
    },
    {
      "cell_type": "code",
      "metadata": {
        "id": "HeLbgUiO1k3Q"
      },
      "source": [
        "from google.colab import drive\n",
        "drive.mount('/content/drive', force_remount=True)\n",
        "%cd \"drive\"\n",
        "%cd \"My Drive\"\n",
        "%cd \"DFL-Colab-Shraeyas\"\n",
        "!pip install -r requirements-colab.txt"
      ],
      "execution_count": null,
      "outputs": []
    },
    {
      "cell_type": "markdown",
      "metadata": {
        "id": "AAKODZEWda8i"
      },
      "source": [
        "------------------------------------------------------------------\n",
        "#**Add your data_dst and data_src video files**\n",
        "------------------------------------------------------------------\n",
        "Open Your Google Drive.\n",
        "\n",
        "The Above Step will create a Folder Called **DFL-Colab-Shraeyas** on your **Google Drive**.\n",
        "\n",
        "Inside that folder, there is a **workspace** folder.\n",
        "\n",
        "You need to place your **data_dst.mp4** and **data_src.mp4** inside that folder. To do this, simply **drag and drop** these files from your PC to this folder.\n",
        "\n",
        "After you put those files in Google Drive, the contents of the workspace folder should look like this :\n",
        "\n",
        "      workspace\n",
        "        |- data_dst\n",
        "        |- data_src\n",
        "        |- model\n",
        "        |- data_dst.mp4\n",
        "        |- data_src.mp4\n"
      ]
    },
    {
      "cell_type": "markdown",
      "metadata": {
        "id": "pzkKM783dJcx"
      },
      "source": [
        "------------------------------------------------------------------\n",
        "#**Extract Frames From Video**\n",
        "------------------------------------------------------------------\n"
      ]
    },
    {
      "cell_type": "markdown",
      "metadata": {
        "id": "_JrrvKLudVDI"
      },
      "source": [
        "Extract Frames From **data_dst**"
      ]
    },
    {
      "cell_type": "code",
      "metadata": {
        "id": "arGQyxzpc0Bb"
      },
      "source": [
        "!python main.py videoed extract-video --input-file workspace/data_dst.* --output-dir workspace/data_dst/"
      ],
      "execution_count": null,
      "outputs": []
    },
    {
      "cell_type": "markdown",
      "metadata": {
        "id": "1EfcAoW3eyq2"
      },
      "source": [
        "Extract Frames From **data_src**"
      ]
    },
    {
      "cell_type": "code",
      "metadata": {
        "id": "GklDesBge2MA"
      },
      "source": [
        "!python main.py videoed extract-video --input-file workspace/data_src.* --output-dir workspace/data_src/"
      ],
      "execution_count": null,
      "outputs": []
    },
    {
      "cell_type": "markdown",
      "metadata": {
        "id": "iOSpmiRLe1l_"
      },
      "source": [
        "------------------------------------------------------------------\n",
        "#**Denoise Faces**\n",
        "------------------------------------------------------------------\n"
      ]
    },
    {
      "cell_type": "markdown",
      "metadata": {
        "id": "GYTpld2cfOx8"
      },
      "source": [
        "Denoise Frames From **data_dst**"
      ]
    },
    {
      "cell_type": "code",
      "metadata": {
        "id": "sz50c4SQfOOe"
      },
      "source": [
        "!python main.py videoed denoise-image-sequence --input-dir workspace/data_dst"
      ],
      "execution_count": null,
      "outputs": []
    },
    {
      "cell_type": "markdown",
      "metadata": {
        "id": "NVSZT6LLfu0w"
      },
      "source": [
        "Denoise Frames From **data_src**"
      ]
    },
    {
      "cell_type": "code",
      "metadata": {
        "id": "ciVsem3Efza6"
      },
      "source": [
        "!python main.py videoed denoise-image-sequence --input-dir workspace/data_src"
      ],
      "execution_count": null,
      "outputs": []
    },
    {
      "cell_type": "markdown",
      "metadata": {
        "id": "iAuTXApEf3lX"
      },
      "source": [
        "------------------------------------------------------------------\n",
        "#**Detect Faces and Align**\n",
        "------------------------------------------------------------------\n"
      ]
    },
    {
      "cell_type": "code",
      "metadata": {
        "id": "sqkB45Rsf_eW",
        "cellView": "form"
      },
      "source": [
        "#@markdown Select the Type of **Detector** (s3fd recommended) and **FaceType**\n",
        "Detector = \"s3fd\" #@param [\"s3fd\"]\n",
        "FaceType = \"whole_face\" #@param [\"head\", \"half_face\", \"full_face\", \"whole_face\"]"
      ],
      "execution_count": null,
      "outputs": []
    },
    {
      "cell_type": "code",
      "metadata": {
        "id": "TP958r8AiQZH",
        "cellView": "form"
      },
      "source": [
        "#@markdown ###For **data_dst**\n",
        "#@markdown <sup>**!python** main.py **extract** --input-dir workspace/data_dst --output-dir workspace/data_dst/aligned --face-type \" + $FaceType + \" --detector \" + $Detector</sup>\n",
        "\n",
        "cmd = \"main.py extract --input-dir workspace/data_dst --output-dir workspace/data_dst/aligned --face-type \" + FaceType + \" --detector \" + Detector\n",
        "!python $cmd"
      ],
      "execution_count": null,
      "outputs": []
    },
    {
      "cell_type": "code",
      "metadata": {
        "id": "yfg_yK2jnjeJ",
        "cellView": "form"
      },
      "source": [
        "#@markdown ###For **data_src**\n",
        "#@markdown <sup>**!python** main.py **extract** --input-dir workspace/data_src --output-dir workspace/data_src/aligned --face-type \" + $FaceType + \" --detector \" + $Detector</sup>\n",
        "\n",
        "cmd = \"main.py extract --input-dir workspace/data_src --output-dir workspace/data_src/aligned --face-type \" + FaceType + \" --detector \" + Detector\n",
        "!python $cmd"
      ],
      "execution_count": null,
      "outputs": []
    },
    {
      "cell_type": "markdown",
      "metadata": {
        "id": "fF0FXL6roDlJ"
      },
      "source": [
        "------------------------------------------------------------------\n",
        "#**Sort Aligned Faces**\n",
        "------------------------------------------------------------------\n"
      ]
    },
    {
      "cell_type": "code",
      "metadata": {
        "id": "P0oPfb3poLDq",
        "cellView": "form"
      },
      "source": [
        "#@markdown Select **sort type** (absdiff recommended)\n",
        "sort_type = \"absdiff\" #@param [\"absdiff\", \"blur\", \"face-yaw\", \"face-pitch\", \"face-source-rect-size\", \"hist\", \"hist-dissim\", \"brightness\", \"hue\", \"black\", \"origname\", \"oneface\", \"final\", \"final-faster\"]"
      ],
      "execution_count": null,
      "outputs": []
    },
    {
      "cell_type": "code",
      "metadata": {
        "id": "JVahR9ZKop6E",
        "cellView": "form"
      },
      "source": [
        "#@markdown For **data_dst**\n",
        "\n",
        "#@markdown <sup>**!python** main.py **sort** --input-dir workspace/data_dst/aligned --by \" + $sort_type\n",
        "\n",
        "cmd = \"main.py sort --input-dir workspace/data_dst/aligned --by \"+sort_type\n",
        "!python $cmd"
      ],
      "execution_count": null,
      "outputs": []
    },
    {
      "cell_type": "code",
      "metadata": {
        "id": "-YQl-MOrpJit",
        "cellView": "form"
      },
      "source": [
        "#@markdown For **data_src**\n",
        "\n",
        "#@markdown <sup>**!python** main.py **sort** --input-dir workspace/data_src/aligned --by \" + $sort_type\n",
        "\n",
        "cmd = \"main.py sort --input-dir workspace/data_src/aligned --by \"+sort_type\n",
        "!python $cmd"
      ],
      "execution_count": null,
      "outputs": []
    },
    {
      "cell_type": "markdown",
      "metadata": {
        "id": "XQ4GHbu0pRNP"
      },
      "source": [
        "------------------------------------------------------------------\n",
        "#**Faceset Enhance**\n",
        "------------------------------------------------------------------"
      ]
    },
    {
      "cell_type": "code",
      "metadata": {
        "id": "RX8tvkFJpWsc",
        "cellView": "form"
      },
      "source": [
        "#@markdown For **data_dst**\n",
        "\n",
        "#@markdown <sup>**!python** main.py **facesettool** enhance --input-dir /workspace/data_dst/aligned</sup>\n",
        "!python main.py facesettool enhance --input-dir /workspace/data_dst/aligned"
      ],
      "execution_count": null,
      "outputs": []
    },
    {
      "cell_type": "code",
      "metadata": {
        "id": "8SbnaIMsp9zL",
        "cellView": "form"
      },
      "source": [
        "#@markdown For **data_src**\n",
        "\n",
        "#@markdown <sup>**!python** main.py **facesettool** enhance --input-dir /workspace/data_src/aligned</sup>\n",
        "!python main.py facesettool enhance --input-dir /workspace/data_src/aligned"
      ],
      "execution_count": null,
      "outputs": []
    },
    {
      "cell_type": "markdown",
      "metadata": {
        "id": "XrQe1reNqHz2"
      },
      "source": [
        "------------------------------------------------------------------\n",
        "#**Train Model**\n",
        "------------------------------------------------------------------"
      ]
    },
    {
      "cell_type": "code",
      "metadata": {
        "id": "V66ifcn8qKfb",
        "cellView": "form"
      },
      "source": [
        "Model = \"SAEHD\" #@param [\"SAEHD\", \"Quick96\"]\n",
        "\n",
        "#@markdown <sup>**!python** main.py **train** **--training-data-src-dir** workspace/data_src/aligned **--training-data-dst-dir** workspace/data_dst/aligned **--pretraining-data-dir** pretrain **--model-dir** workspace/model **--model** \" + $Model</sup>\n",
        "cmd = \"main.py train --training-data-src-dir workspace/data_src/aligned --training-data-dst-dir workspace/data_dst/aligned --pretraining-data-dir pretrain --model-dir workspace/model --model \" + Model\n",
        "\n",
        "!python $cmd"
      ],
      "execution_count": null,
      "outputs": []
    },
    {
      "cell_type": "markdown",
      "metadata": {
        "id": "69fUSgG_r2CW"
      },
      "source": [
        "------------------------------------------------------------------\n",
        "#**Convert frames**\n",
        "------------------------------------------------------------------"
      ]
    },
    {
      "cell_type": "code",
      "metadata": {
        "id": "7VUDQQcnr1pQ",
        "cellView": "form"
      },
      "source": [
        "#@title Convert\n",
        "Model = \"SAEHD\" #@param [\"SAEHD\", \"Quick96\"]\n",
        "\n",
        "#@markdown <sup>**!python** \"main.py **convert** **--input-dir** workspace/data_dst/aligned **--output-dir** workspace/data_dst/merged **--model-dir** workspace/model **--model** \" + $Model</sup>\n",
        "cmd = \"main.py merge --input-dir workspace/data_dst --output-dir workspace/data_dst/merged --output-mask-dir workspace/data_dst/merged_mask --aligned-dir workspace/data_dst/aligned --model-dir workspace/model --model \"+Model\n",
        "\n",
        "!python $cmd"
      ],
      "execution_count": null,
      "outputs": []
    },
    {
      "cell_type": "markdown",
      "metadata": {
        "id": "HPdlGd1wstJx"
      },
      "source": [
        "------------------------------------------------------------------\n",
        "#**Get Final Result Video**\n",
        "------------------------------------------------------------------"
      ]
    },
    {
      "cell_type": "code",
      "metadata": {
        "id": "kz9VPIe2sybv"
      },
      "source": [
        "!python main.py videoed video-from-sequence --input-dir workspace/data_dst/merged --output-file workspace/result.mp4 --reference-file workspace/data_dst.mp4"
      ],
      "execution_count": null,
      "outputs": []
    },
    {
      "cell_type": "markdown",
      "metadata": {
        "id": "g2eWBrdK1w_7"
      },
      "source": [
        "------------------------------------------------------------------\n",
        "###If your session got **DISCONNECTED** or you want to **RESUME your work (or maybe you just switched to a different account)**, then execute the following lines of code.\n",
        "------------------------------------------------------------------\n",
        "####**Make sure to use the same google drive account which contains your previous work**"
      ]
    },
    {
      "cell_type": "code",
      "metadata": {
        "id": "liFaO2EP1xAF"
      },
      "source": [
        "from google.colab import drive\n",
        "drive.mount('/content/drive', force_remount=True)\n",
        "%cd \"drive\"\n",
        "%cd \"My Drive\"\n",
        "%cd \"DFL-Colab-Shraeyas\"\n",
        "!pip install -r requirements-colab.txt"
      ],
      "execution_count": null,
      "outputs": []
    },
    {
      "cell_type": "markdown",
      "metadata": {
        "id": "VlDjQTRToZtG"
      },
      "source": [
        "------------------------------------------------------------------\n",
        "##If you clicked on **RESTART RUNTIME** in the above step, then execute the following lines.\n",
        "------------------------------------------------------------------"
      ]
    },
    {
      "cell_type": "code",
      "metadata": {
        "id": "lCrPiT0ZoVyB"
      },
      "source": [
        "from google.colab import drive\n",
        "drive.mount('/content/drive', force_remount=True)\n",
        "%cd \"drive\"\n",
        "%cd \"My Drive\"\n",
        "%cd \"DFL-Colab-Shraeyas\"\n",
        "!pip install -r requirements-colab.txt"
      ],
      "execution_count": null,
      "outputs": []
    },
    {
      "cell_type": "markdown",
      "metadata": {
        "id": "CV0Im7tj2FYa"
      },
      "source": [
        "###**After excuting these lines, simply continue with the step you were doing before.**"
      ]
    }
  ]
}